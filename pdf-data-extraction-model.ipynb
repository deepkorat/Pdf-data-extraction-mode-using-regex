{
 "cells": [
  {
   "cell_type": "markdown",
   "id": "f97e182d-d0dc-44fe-8002-e9a37f3f11a4",
   "metadata": {},
   "source": [
    "## PDF SALES DATA EXTRACTION"
   ]
  },
  {
   "cell_type": "markdown",
   "id": "a1a477dc-1577-4688-9c62-124d0428d9d9",
   "metadata": {},
   "source": [
    "<h5>I used <span style=\"color:blue\">PyPDF4</span> and <span style=\"color:blue\">regex</span> library for extract text from pdf.</h5>"
   ]
  },
  {
   "cell_type": "code",
   "execution_count": 58,
   "id": "7df46bfe-cfe6-4d35-a811-ebcd84f1f37d",
   "metadata": {},
   "outputs": [],
   "source": [
    "import PyPDF4\n",
    "import re\n",
    "import pandas as pd"
   ]
  },
  {
   "cell_type": "markdown",
   "id": "3e538102-1ae3-40ea-93f0-5031765ba551",
   "metadata": {},
   "source": [
    "### Collection of all data fetching methods.\n",
    "\n",
    "<p>Data_fetched_method class contains several methods for extracting specific information from a PDF document.</p>"
   ]
  },
  {
   "cell_type": "code",
   "execution_count": 116,
   "id": "6dd44f10-80ab-483f-8fe6-e5eb80659c6c",
   "metadata": {},
   "outputs": [],
   "source": [
    "class Data_fetched_method:\n",
    "    \n",
    "    def get_invoiceNumber(pdf_text):\n",
    "        in_match = re.search(r'Invoice\\s*No.\\s*(\\S+)', pdf_text)\n",
    "        if in_match:\n",
    "            invoice_number = in_match.group(1)\n",
    "            return invoice_number\n",
    "            # print(\"Invoice number: \"+invoice_number)\n",
    "            \n",
    "        else:\n",
    "            print(\"Invoice number not found in the text.\")\n",
    "            \n",
    "    def get_invoiceDate(pdf_text):\n",
    "        id_match = re.search(r'Invoice\\s*Date\\s*(\\S+)', pdf_text)\n",
    "        if id_match:\n",
    "            invoice_date = id_match.group(1)\n",
    "            return invoice_date\n",
    "            # print(\"Invoice date: \"+invoice_date)\n",
    "        else:\n",
    "            print(\"Invoice date not found in the text.\")\n",
    "            \n",
    "    def get_orderDate(pdf_text):\n",
    "        od_match = re.search(r'Order\\s*Date\\s*(\\S+)', pdf_text)\n",
    "        if od_match:\n",
    "            order_date = od_match.group(1)\n",
    "            return order_date\n",
    "            # print(\"Order date: \"+order_date)\n",
    "        else:\n",
    "            print(\"Order date not found in the text.\")\n",
    "            \n",
    "    def get_productDetails(pdf_text):\n",
    "        pattern = r\"Order No\\.\\s+(.*?)\\s+Fold Here\"\n",
    "        pd_match = re.search(pattern, pdf_text, re.DOTALL)\n",
    "        if pd_match:\n",
    "            result2 = pd_match.group(1)\n",
    "            lines2 = result2.split(\"\\n\")\n",
    "            SKU = str(lines2[0])\n",
    "            SIZE = lines2[1]\n",
    "            QTY = int(lines2[2])\n",
    "            COLOR = lines2[3]\n",
    "            ORDER_NO = lines2[4]\n",
    "\n",
    "            product_details = [SKU, SIZE, QTY, COLOR, ORDER_NO]\n",
    "            return product_details\n",
    "        \n",
    "            # print(\"SKU = \"+SKU)\n",
    "            # print(\"Size = \"+SIZE)\n",
    "            # print(\"Qty = \"+QTY)\n",
    "            # print(\"Color = \"+COLOR)\n",
    "            # print(\"Order No. = \"+ORDER_NO)\n",
    "        else:\n",
    "            print(\"No match found in product details.\")\n",
    "        \n",
    "    def get_other_details(pdf_text):\n",
    "        other_details_result = re.search(r'Total\\n(.*?)\\nOther Charges', pdf_text, re.DOTALL)\n",
    "        if other_details_result:\n",
    "            extracted_text = other_details_result.group(1).strip()\n",
    "            lines = extracted_text.split(\"\\n\")\n",
    "            lines1 = extracted_text.split('\\n')[:len(lines)-9]\n",
    "            \n",
    "            # other details\n",
    "            description = ' '.join(filter(None, lines1))\n",
    "            hsn = int(lines[-9])\n",
    "            qty = int(lines[-8])\n",
    "            gross_amount = float(lines[-7].replace(\"Rs.\", \"\"))\n",
    "            discount = float(lines[-6].replace(\"Rs.\", \"\"))\n",
    "            taxable_value = float(lines[-5].replace(\"Rs.\", \"\"))\n",
    "\n",
    "            # tax\n",
    "            taxes_string = lines[-4]\n",
    "            match1 = re.search(r'@(.+?)%', taxes_string)\n",
    "            if match1:\n",
    "                taxes = int(float(match1.group(1)))\n",
    "\n",
    "            # total\n",
    "            total = lines[-1]\n",
    "            total = float(total[3:len(total)])\n",
    "\n",
    "            other_details = {\"description\":description, \"hsn\":hsn, \"qty\":qty, \"gross amount\":gross_amount, \"discount\":discount, \"taxable value\":taxable_value, \"taxes\":taxes, \"total\":total}\n",
    "            return other_details\n",
    "            \n",
    "            # print(\"Description = \"+description)\n",
    "            # print(\"HSN = \"+hsn)\n",
    "            # print(\"Qty = \"+qty)\n",
    "            # print(\"Gross Amount = \"+gross_amount[3:len(gross_amount)])\n",
    "            # print(\"Discount = \"+discount[3:len(discount)])\n",
    "            # print(\"Taxable Value = \"+taxable_value[3:len(taxable_value)])\n",
    "            # print(\"Taxes = \"+str(taxes))\n",
    "            # print(\"Total = \"+total)"
   ]
  },
  {
   "cell_type": "markdown",
   "id": "1b5a03e5-0c57-43cb-90bf-c335f7677d30",
   "metadata": {},
   "source": [
    "### Processing a PDF document"
   ]
  },
  {
   "cell_type": "code",
   "execution_count": 117,
   "id": "0cb4c944-5ef3-41dc-ae31-dae199be3ed4",
   "metadata": {},
   "outputs": [],
   "source": [
    "pdf_file = open('all_sub_order.pdf', 'rb')\n",
    "pdf_reader = PyPDF4.PdfFileReader(pdf_file)"
   ]
  },
  {
   "cell_type": "markdown",
   "id": "f410cfa0-d88d-4f50-a9c9-fa07c4ca8a67",
   "metadata": {},
   "source": [
    "<h3> Utilizes methods from the <span style=\"color:blue\">Data_fetched_method</span> class </h3>\n",
    "<p>pdf_model is actually a generator function which yield the details one by one.</p>"
   ]
  },
  {
   "cell_type": "code",
   "execution_count": 118,
   "id": "40e3cb46-402c-4f27-bed0-826a7b22ad00",
   "metadata": {},
   "outputs": [],
   "source": [
    "def pdf_model(pdf_reader):\n",
    "    for page_num in range(1, pdf_reader.numPages):\n",
    "        page = pdf_reader.getPage(page_num)\n",
    "        pdf_text = page.extractText()\n",
    "        # print(pdf_text)\n",
    "        \n",
    "        # get invoice number\n",
    "        invoiceNumber = Data_fetched_method.get_invoiceNumber(pdf_text)\n",
    "        \n",
    "        # get invoice date\n",
    "        invoiceDate = Data_fetched_method.get_invoiceDate(pdf_text)\n",
    "        \n",
    "        # get order date\n",
    "        orderDate = Data_fetched_method.get_orderDate(pdf_text)\n",
    "        \n",
    "        # get product details\n",
    "        productDetails_list = Data_fetched_method.get_productDetails(pdf_text)\n",
    "        \n",
    "        \n",
    "        # get other details\n",
    "        otherDetails_list = Data_fetched_method.get_other_details(pdf_text)\n",
    "        od = []\n",
    "        \n",
    "        details = {\"Invoice number\": invoiceNumber, \n",
    "                   \"Invoice date\":invoiceDate, \n",
    "                   \"Order date\":orderDate, \n",
    "                   \"Sku\":productDetails_list[0],\n",
    "                   \"Size\":productDetails_list[1],\n",
    "                   \"Qty\":productDetails_list[2],\n",
    "                   \"Color\": productDetails_list[3],\n",
    "                   \"Order No.\": productDetails_list[4],\n",
    "                   \"Description\":otherDetails_list[\"description\"],\n",
    "                   \"Hsn\":otherDetails_list[\"hsn\"],\n",
    "                   \"Qty\":otherDetails_list[\"qty\"],\n",
    "                   \"Gross amount\":otherDetails_list[\"gross amount\"],\n",
    "                   \"Discount\":otherDetails_list[\"discount\"],\n",
    "                   \"Taxable Value\":otherDetails_list[\"taxable value\"],\n",
    "                   \"Taxes\":otherDetails_list[\"taxes\"],\n",
    "                   \"Total\":otherDetails_list[\"total\"],\n",
    "                   }\n",
    "        yield details\n",
    "        \n",
    "        # print(invoiceNumber)\n",
    "        # print(invoiceDate)\n",
    "        # print(orderDate)\n",
    "        # print(productDetails_list)\n",
    "        # print(otherDetails_list['description'])"
   ]
  },
  {
   "cell_type": "code",
   "execution_count": 119,
   "id": "8597b991-a3f5-4b4b-ba1a-f429c02c7774",
   "metadata": {},
   "outputs": [],
   "source": [
    "obj = pdf_model(pdf_reader)\n",
    "df = pd.DataFrame(obj)"
   ]
  },
  {
   "cell_type": "code",
   "execution_count": 120,
   "id": "54c789aa-baa3-4b52-9329-fb51d888a9c5",
   "metadata": {},
   "outputs": [
    {
     "data": {
      "text/html": [
       "<div>\n",
       "<style scoped>\n",
       "    .dataframe tbody tr th:only-of-type {\n",
       "        vertical-align: middle;\n",
       "    }\n",
       "\n",
       "    .dataframe tbody tr th {\n",
       "        vertical-align: top;\n",
       "    }\n",
       "\n",
       "    .dataframe thead th {\n",
       "        text-align: right;\n",
       "    }\n",
       "</style>\n",
       "<table border=\"1\" class=\"dataframe\">\n",
       "  <thead>\n",
       "    <tr style=\"text-align: right;\">\n",
       "      <th></th>\n",
       "      <th>Invoice number</th>\n",
       "      <th>Invoice date</th>\n",
       "      <th>Order date</th>\n",
       "      <th>Sku</th>\n",
       "      <th>Size</th>\n",
       "      <th>Qty</th>\n",
       "      <th>Color</th>\n",
       "      <th>Order No.</th>\n",
       "      <th>Description</th>\n",
       "      <th>Hsn</th>\n",
       "      <th>Gross amount</th>\n",
       "      <th>Discount</th>\n",
       "      <th>Taxable Value</th>\n",
       "      <th>Taxes</th>\n",
       "      <th>Total</th>\n",
       "    </tr>\n",
       "  </thead>\n",
       "  <tbody>\n",
       "    <tr>\n",
       "      <th>0</th>\n",
       "      <td>rv23a235578</td>\n",
       "      <td>20.03.2023</td>\n",
       "      <td>18.03.2023</td>\n",
       "      <td>1443290244</td>\n",
       "      <td>M</td>\n",
       "      <td>1</td>\n",
       "      <td>Mustard</td>\n",
       "      <td>321189690290_1</td>\n",
       "      <td>Shivansh Creation Women   Reyon Printed Matern...</td>\n",
       "      <td>6204</td>\n",
       "      <td>404.0</td>\n",
       "      <td>0.0</td>\n",
       "      <td>384.76</td>\n",
       "      <td>5</td>\n",
       "      <td>404.0</td>\n",
       "    </tr>\n",
       "    <tr>\n",
       "      <th>1</th>\n",
       "      <td>rv23a235583</td>\n",
       "      <td>20.03.2023</td>\n",
       "      <td>19.03.2023</td>\n",
       "      <td>1838955934</td>\n",
       "      <td>Un Stitched</td>\n",
       "      <td>1</td>\n",
       "      <td>NA</td>\n",
       "      <td>370533673879_1</td>\n",
       "      <td>Shivansh Creation Women's   Crepe Printed Unst...</td>\n",
       "      <td>540710</td>\n",
       "      <td>334.0</td>\n",
       "      <td>0.0</td>\n",
       "      <td>318.10</td>\n",
       "      <td>5</td>\n",
       "      <td>334.0</td>\n",
       "    </tr>\n",
       "  </tbody>\n",
       "</table>\n",
       "</div>"
      ],
      "text/plain": [
       "  Invoice number Invoice date  Order date         Sku         Size  Qty  \\\n",
       "0    rv23a235578   20.03.2023  18.03.2023  1443290244            M    1   \n",
       "1    rv23a235583   20.03.2023  19.03.2023  1838955934  Un Stitched    1   \n",
       "\n",
       "     Color       Order No.                                        Description  \\\n",
       "0  Mustard  321189690290_1  Shivansh Creation Women   Reyon Printed Matern...   \n",
       "1       NA  370533673879_1  Shivansh Creation Women's   Crepe Printed Unst...   \n",
       "\n",
       "      Hsn  Gross amount  Discount  Taxable Value  Taxes  Total  \n",
       "0    6204         404.0       0.0         384.76      5  404.0  \n",
       "1  540710         334.0       0.0         318.10      5  334.0  "
      ]
     },
     "execution_count": 120,
     "metadata": {},
     "output_type": "execute_result"
    }
   ],
   "source": [
    "df.head(2)"
   ]
  },
  {
   "cell_type": "markdown",
   "id": "8301de99-cd11-4d0b-89d1-d90aaf0c2266",
   "metadata": {},
   "source": [
    "### Feature Engineering"
   ]
  },
  {
   "cell_type": "code",
   "execution_count": 121,
   "id": "722f0e6b-2b6e-47c3-80e1-19d15cb8c2fa",
   "metadata": {},
   "outputs": [],
   "source": [
    "column_names = df.columns.tolist()\n",
    "column_datatype = df.dtypes.tolist()"
   ]
  },
  {
   "cell_type": "markdown",
   "id": "e465cc8e-5295-46be-8472-21519b38020c",
   "metadata": {},
   "source": [
    "<h5>Remove \"Rs.\" on column number 11,12,13 </h5>"
   ]
  },
  {
   "cell_type": "code",
   "execution_count": 122,
   "id": "2f5eaecf-864d-4bcc-bac3-00748dc6b458",
   "metadata": {},
   "outputs": [
    {
     "name": "stdout",
     "output_type": "stream",
     "text": [
      "1 --> Invoice number --> object\n",
      "2 --> Invoice date --> object\n",
      "3 --> Order date --> object\n",
      "4 --> Sku --> object\n",
      "5 --> Size --> object\n",
      "6 --> Qty --> int64\n",
      "7 --> Color --> object\n",
      "8 --> Order No. --> object\n",
      "9 --> Description --> object\n",
      "10 --> Hsn --> int64\n",
      "11 --> Gross amount --> float64\n",
      "12 --> Discount --> float64\n",
      "13 --> Taxable Value --> float64\n",
      "14 --> Taxes --> int64\n",
      "15 --> Total --> float64\n"
     ]
    }
   ],
   "source": [
    "for i, (column, datatype) in enumerate(zip(column_names, column_datatype)):\n",
    "    print(i+1, \"-->\", column, \"-->\", datatype)"
   ]
  },
  {
   "cell_type": "code",
   "execution_count": 125,
   "id": "98f6711f-a297-4534-8dba-fe403e18bff1",
   "metadata": {},
   "outputs": [],
   "source": [
    "output_file = \"pdf_data.xlsx\"\n",
    "df.to_excel(output_file, index=False)"
   ]
  }
 ],
 "metadata": {
  "kernelspec": {
   "display_name": "Python 3 (ipykernel)",
   "language": "python",
   "name": "python3"
  },
  "language_info": {
   "codemirror_mode": {
    "name": "ipython",
    "version": 3
   },
   "file_extension": ".py",
   "mimetype": "text/x-python",
   "name": "python",
   "nbconvert_exporter": "python",
   "pygments_lexer": "ipython3",
   "version": "3.10.9"
  }
 },
 "nbformat": 4,
 "nbformat_minor": 5
}
